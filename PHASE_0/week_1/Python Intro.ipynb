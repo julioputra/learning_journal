{
  "nbformat": 4,
  "nbformat_minor": 0,
  "metadata": {
    "language_info": {
      "codemirror_mode": {
        "name": "ipython",
        "version": 3
      },
      "file_extension": ".py",
      "mimetype": "text/x-python",
      "name": "python",
      "nbconvert_exporter": "python",
      "pygments_lexer": "ipython3",
      "version": 3
    },
    "orig_nbformat": 2,
    "colab": {
      "name": "revisi_d1am.ipynb",
      "provenance": [],
      "collapsed_sections": []
    }
  },
  "cells": [
    {
      "cell_type": "markdown",
      "metadata": {
        "id": "oADKKUJktemI"
      },
      "source": [
        "# Week 1: Day 1 AM // Introduction: Data Science Toolbox"
      ]
    },
    {
      "cell_type": "markdown",
      "metadata": {
        "id": "G7cLCNI8temR"
      },
      "source": [
        "“Data science” is just about as broad of a term as they come. It may be easiest to describe what it is by listing its more concrete components:\n",
        "\n",
        "**Data exploration & analysis.**\n",
        "\n",
        "- Included here: Pandas; NumPy; SciPy; a helping hand from Python’s Standard Library.\n",
        "\n",
        "**Data visualization.** A pretty self-explanatory name. Taking data and turning it into something colorful.\n",
        "\n",
        "- Included here: Matplotlib; Seaborn; Plotly; others.\n",
        "\n",
        "**Classical machine learning**. Conceptually, we could define this as any supervised or unsupervised learning task that is not deep learning (see below). Scikit-learn is far-and-away the go-to tool for implementing classification, regression, clustering, and dimensionality reduction, while StatsModels is less actively developed but still has a number of useful features.\n",
        "\n",
        "- Included here: Scikit-Learn, StatsModels.\n",
        "\n",
        "**Deep learning**. This is a subset of machine learning that is seeing a renaissance, and is commonly implemented with Keras, among other libraries. It has seen monumental improvements over the last ~5 years, such as AlexNet in 2012, which was the first design to incorporate consecutive convolutional layers.\n",
        "\n",
        "- Included here: Keras and TensorFlow.\n",
        "\n",
        "**Data storage and big data frameworks.** Big data is best defined as data that is either literally too large to reside on a single machine, or can’t be processed in the absence of a distributed environment. The Python bindings to Apache technologies play heavily here.\n",
        "\n",
        "- Apache Spark; Apache Hadoop; HDFS; Dask; h5py/pytables.\n",
        "\n",
        "**Odds and ends.** Includes subtopics such as natural language processing, and image manipulation with libraries such as OpenCV.\n",
        "\n",
        "- Included here: nltk; Spacy; OpenCV/cv2; scikit-image; Cython."
      ]
    },
    {
      "cell_type": "markdown",
      "metadata": {
        "id": "g3F-v8nFtemV"
      },
      "source": [
        "## Anaconda Basic\n",
        "\n",
        "Anaconda is a distribution of the Python and R programming languages for scientific computing, that aims to simplify package management and deployment. The distribution includes data-science packages suitable for Windows, Linux, and macOS.\n",
        "\n",
        "Download Anaconda from [here](https://www.anaconda.com/products/individual).\n",
        "\n"
      ]
    },
    {
      "cell_type": "markdown",
      "metadata": {
        "id": "SC2JtnFZtemZ"
      },
      "source": [
        "### Managing Conda\n",
        "\n",
        "Verify that conda is installed and running on your system by typing:\n",
        "\n",
        "`conda --version`\n",
        "\n",
        "Conda displays the number of the version that you have installed. You do not need to navigate to the Anaconda directory.\n",
        "\n",
        "EXAMPLE: `conda 4.7.12`\n",
        "\n",
        "Update conda to the current version. Type the following:\n",
        "\n",
        "`conda update conda`\n",
        "\n",
        "Conda compares versions and then displays what is available to install.\n",
        "\n",
        "If a newer version of conda is available, type y to update:\n",
        "\n",
        "`Proceed ([y]/n)? y`\n",
        "\n",
        "### Managing Environtment\n",
        "\n",
        "Conda allows you to create separate environments containing files, packages, and their dependencies that will not interact with other environments.\n",
        "\n",
        "When you begin using conda, you already have a default environment named base. You don't want to put programs into your base environment, though. Create separate environments to keep your programs isolated from each other.\n",
        "\n",
        "Create a new environment and install a package in it.\n",
        "\n",
        "We will name the environment `Hacktiv8` and install the package pandas. At the Anaconda Prompt or in your terminal window, type the following:\n",
        "\n",
        "`conda create --name Hacktiv8 pandas`\n",
        "\n",
        "Conda checks to see what additional packages (\"dependencies\") pandas will need, and asks if you want to proceed:\n",
        "\n",
        "`Proceed (y]/n)? y`\n",
        "\n",
        "Type \"y\" and press Enter to proceed.\n",
        "\n",
        "To use, or \"activate\" the new environment, type the following:\n",
        "\n",
        "```sh\n",
        "Windows: conda activate Hacktiv8\n",
        "\n",
        "macOS and Linux: conda activate Hacktiv8\n",
        "```\n",
        "\n",
        "Now that you are in your Hacktiv8 environment, any conda commands you type will go to that environment until you deactivate it.\n",
        "\n",
        "To see a list of all your environments, type:\n",
        "\n",
        "`conda info --envs`\n",
        "\n",
        "A list of environments appears, similar to the following:\n",
        "\n",
        "```sh\n",
        "conda environments:\n",
        "\n",
        "    base           /home/username/Anaconda3\n",
        "    snowflakes   * /home/username/Anaconda3/envs/snowflakes\n",
        "```\n",
        "\n",
        "The active environment is the one with an asterisk (*).\n",
        "\n",
        "Change your current environment back to the default (base): `conda activate`\n",
        "\n",
        "### Managing Python\n",
        "\n",
        "When you create a new environment, conda installs the same Python version you used when you downloaded and installed Anaconda. If you want to use a different version of Python, for example Python 3.6, simply create a new environment and specify the version of Python that you want.\n",
        "\n",
        "Create a new environment named \"fox\" that contains Python 3.6:\n",
        "\n",
        "`conda create --name fox python=3.6`\n",
        "\n",
        "When conda asks if you want to proceed, type \"y\" and press Enter.\n",
        "\n",
        "### Managing Packages\n",
        "\n",
        "In this section, you check which packages you have installed, check which are available and look for a specific package and install it.\n",
        "\n",
        "To find a package you have already installed, first activate the environment you want to search. Look above for the commands to activate your Hacktiv8 environment.\n",
        "\n",
        "Check to see if a package you have not installed named \"beautifulsoup4\" is available from the Anaconda repository (must be connected to the Internet):\n",
        "\n",
        "`conda search beautifulsoup4`\n",
        "\n",
        "Conda displays a list of all packages with that name on the Anaconda repository, so we know it is available.\n",
        "\n",
        "Install this package into the current environment:\n",
        "\n",
        "`conda install beautifulsoup4`\n",
        "\n",
        "Check to see if the newly installed program is in this environment:\n",
        "\n",
        "`conda list`"
      ]
    },
    {
      "cell_type": "markdown",
      "metadata": {
        "id": "zVvzo1OOtemh"
      },
      "source": [
        "## The Notebooks\n",
        "\n",
        "### JupyterLab\n",
        "\n",
        "JupyterLab is a web-based interactive development environment for Jupyter notebooks, code, and data. JupyterLab is flexible: configure and arrange the user interface to support a wide range of workflows in data science, scientific computing, and machine learning. JupyterLab is extensible and modular: write plugins that add new components and integrate with existing ones.\n",
        "\n",
        "### Google Colab\n",
        "\n",
        "Colaboratory, or \"Colab\" for short, allows you to write and execute Python in your browser, with\n",
        "- Zero configuration required\n",
        "- Free access to GPUs\n",
        "- Easy sharing\n",
        "Whether you're a student, a data scientist or an AI researcher, Colab can make your work easier.\n"
      ]
    }
  ]
}